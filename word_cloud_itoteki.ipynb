{
 "cells": [
  {
   "cell_type": "code",
   "execution_count": 1,
   "id": "0687445c",
   "metadata": {},
   "outputs": [],
   "source": [
    "import pandas as pd\n",
    "from wordcloud import WordCloud\n",
    "import math\n",
    "import numpy as np\n",
    "from matplotlib import pyplot as plt\n",
    "import glob"
   ]
  },
  {
   "cell_type": "code",
   "execution_count": 2,
   "id": "9b5264b5",
   "metadata": {},
   "outputs": [],
   "source": [
    "#ヘッダーは設定しないこと\n",
    "input_data = './inputdata/test.csv'"
   ]
  },
  {
   "cell_type": "code",
   "execution_count": 3,
   "id": "98107a24",
   "metadata": {},
   "outputs": [],
   "source": [
    "def editDF(input_data):\n",
    "    k = 1000\n",
    "    df = pd.read_csv(input_data, encoding='utf-8', header=None ,names=['ID', 'word', 'weight'])\n",
    "    df_work = df['word'].copy()\n",
    "    for i , target in enumerate(df_work):\n",
    "        text = ''\n",
    "        adj = 0\n",
    "        text = target + ' '\n",
    "        adj = math.floor(k * float(df['weight'][i]))\n",
    "        df['word'][i] = text * adj\n",
    "    \n",
    "    df_out = df['word'].copy()\n",
    "    df_out.to_csv(input_data[:-4] + '_arange.csv', encoding='utf-8-sig', index=False)"
   ]
  },
  {
   "cell_type": "code",
   "execution_count": 4,
   "id": "87e731f2",
   "metadata": {},
   "outputs": [],
   "source": [
    "def createWordCloud():\n",
    "    files = glob.glob('./inputdata/*_arange.csv')\n",
    "#     FONT_PATH = './fonts/meiryo.ttc'\n",
    "    for file in files :\n",
    "        arr = np.loadtxt(file, delimiter = ',' , dtype='str')\n",
    "        source_text = ' '.join(arr)\n",
    "        W = WordCloud(width=1280, height=980, background_color='white', colormap='gist_earth').generate(source_text)\n",
    "        plt.imshow(W)\n",
    "        plt.axis('off')\n",
    "        plt.savefig(file[:-4] + '.png')"
   ]
  },
  {
   "cell_type": "code",
   "execution_count": 5,
   "id": "2ded0375",
   "metadata": {},
   "outputs": [
    {
     "name": "stderr",
     "output_type": "stream",
     "text": [
      "<ipython-input-3-e3a00076e45c>:10: SettingWithCopyWarning: \n",
      "A value is trying to be set on a copy of a slice from a DataFrame\n",
      "\n",
      "See the caveats in the documentation: https://pandas.pydata.org/pandas-docs/stable/user_guide/indexing.html#returning-a-view-versus-a-copy\n",
      "  df['word'][i] = text * adj\n"
     ]
    },
    {
     "data": {
      "image/png": "[encoded data removed]",
      "text/plain": [
       "<Figure size 432x288 with 1 Axes>"
      ]
     },
     "metadata": {
      "needs_background": "light"
     },
     "output_type": "display_data"
    }
   ],
   "source": [
    "editDF(input_data)\n",
    "createWordCloud()"
   ]
  },
  {
   "cell_type": "code",
   "execution_count": 6,
   "id": "d7db3168",
   "metadata": {},
   "outputs": [],
   "source": [
    "# dftest = pd.read_csv(input_data, encoding='utf-8',index_col=['id', 'word', 'weight'])"
   ]
  },
  {
   "cell_type": "code",
   "execution_count": 7,
   "id": "ddab312f",
   "metadata": {},
   "outputs": [],
   "source": [
    "# dftest"
   ]
  },
  {
   "cell_type": "code",
   "execution_count": null,
   "id": "adbab284",
   "metadata": {},
   "outputs": [],
   "source": []
  },
  {
   "cell_type": "code",
   "execution_count": 8,
   "id": "bebf655c",
   "metadata": {},
   "outputs": [],
   "source": [
    "# k = 1000\n",
    "# df = pd.read_csv(input_data, encoding='utf-8', header=None ,names=['ID', 'word', 'weight'])\n",
    "# df_work = df['word']\n",
    "# for i , target in enumerate(df_work):\n",
    "#     text = ''\n",
    "#     adj = 0\n",
    "#     text = target + ' '\n",
    "#     adj = math.floor(k * float(df['weight'][i]))\n",
    "#     df['word'][i] = text * adj\n",
    "\n",
    "# df_out = df['weight'].copy()\n",
    "# df_out.to_csv(input_data[:-4] + '_arange.csv', encoding='utf-8-sig', index=False)"
   ]
  },
  {
   "cell_type": "code",
   "execution_count": 9,
   "id": "14a1753a",
   "metadata": {},
   "outputs": [],
   "source": [
    "# df_work"
   ]
  },
  {
   "cell_type": "code",
   "execution_count": null,
   "id": "8f7e5526",
   "metadata": {},
   "outputs": [],
   "source": []
  }
 ],
 "metadata": {
  "kernelspec": {
   "display_name": "Python 3",
   "language": "python",
   "name": "python3"
  },
  "language_info": {
   "codemirror_mode": {
    "name": "ipython",
    "version": 3
   },
   "file_extension": ".py",
   "mimetype": "text/x-python",
   "name": "python",
   "nbconvert_exporter": "python",
   "pygments_lexer": "ipython3",
   "version": "3.9.0"
  }
 },
 "nbformat": 4,
 "nbformat_minor": 5
}
